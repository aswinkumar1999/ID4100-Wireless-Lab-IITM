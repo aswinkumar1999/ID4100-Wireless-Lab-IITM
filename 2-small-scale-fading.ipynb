{
 "cells": [
  {
   "cell_type": "markdown",
   "metadata": {},
   "source": [
    "# Small Scale Fading\n",
    "\n",
    "_Note: Unless there is possible confusion with large-scale fading we shall refer to small-scale fading as fading itself._\n",
    "\n",
    "Fading is the rapid variation of the received signal level in the short term as the user terminal moves a short distance. It is due to the effect of multiple signal paths, which cause interference when they arrive subsequently in the receive antenna with varying phases (i.e., constructive interference with the same phase and destructive interference with a different phase). \n",
    "\n",
    "Thus, we may notice three main effects:\n",
    "\n",
    "* Rapid changes in signal strength over a small travel distance or time interval\n",
    "* Random frequency modulation due to varying Doppler shifts on different multipath signals\n",
    "* Time dispersion caused by multipath propagation delays\n",
    "\n",
    "Factors affecting fading include:\n",
    "\n",
    "* mobile speed: Doppler shifts\n",
    "* speed of surrounding objects\n",
    "* multipath propogation: reflections from other objects\n",
    "* transmission bandwidth of signal: The received signal will be distorted if the transmission bandwidth is greater than the bandwidth of the multipath channel.\n",
    "\n",
    "## Parameters for small scale fading\n",
    "\n",
    "How do we characterise this fading? Well, we usually look at a power delay profile (PDP) which is a table of delays versus their average powers. The average power is often calculated in relation to the first received signal, called the tap. So the average power of the tap in decibels would be 0 (by construction).\n",
    "\n",
    "_Mean excess delay_ and _RMS delay spread_ are useful channel parameters that provide a reference of comparison among the different multipath fading channels, and furthermore, show a general guideline to design a wireless transmission system. \n",
    "\n",
    "Let $\\tau_k$ denote the denote the channel delay of the kth path while $a_k$ and $P(\\tau_k)$ denote the amplitude and power, respectively. Then, the **Mean excess delay** $\\overline{\\tau}$ is given by the first moment of PDP as:\n",
    "\n",
    "\\begin{align*}\n",
    "\\overline{\\tau} &= \\frac{\\sum_k a_k^2 \\tau_k}{\\sum_k a_k^2} &= \\frac{\\sum_k P(\\tau_k) \\tau_k}{\\sum_k P(\\tau_k)}\n",
    "\\end{align*}\n",
    "\n",
    "Meanwhile, **RMS delay spread** $\\sigma_{\\tau}$ is given by the square root of the second central moment of PDP as:\n",
    "\n",
    "$$ \\sigma_{\\tau} = \\sqrt{\\overline{\\tau^2} - \\overline{\\tau}^2}$$,\n",
    "\n",
    "with, \n",
    "\n",
    "\\begin{align*}\n",
    "\\overline{\\tau^2} &= \\frac{\\sum_k a_k^2 \\tau_k^2}{\\sum_k a_k^2} &= \\frac{\\sum_k P(\\tau_k) \\tau_k^2}{\\sum_k P(\\tau_k)}\n",
    "\\end{align*}\n",
    "\n",
    "We also define the **coherence bandwidth** $B_c := 1/\\sigma_{\\tau}$. Technically, this depends on the definition of coherence bandwidth, for instance, in the case where the coherence bandwidth is defined as a bandwidth with correlation of 0.9 or above, we get:\n",
    "\n",
    "$$B_c := \\frac{1}{50\\sigma_{\\tau}}$$\n",
    "\n",
    "## Time Dispersive versus Frequency Dispersive Fading\n",
    "\n",
    "As noted earlier, fading can be caused by both multi-path propogation or the Doppler effect. The former induces time dispersive fading, while the latter induces frequency dispersive fading. Depending on the extent of time dispersion or frequency dispersion, the frequency-selective fading or time-selective fading is induced respectively.\n",
    "\n",
    "### Frequency-Selective Fading Channel\n",
    "\n",
    "Due to time dispersion, a transmit signal may undergo fading over a frequency domain either in a selective or non-selective manner, which is referred to as _frequency-selective fading_ or _frequency-non-selective fading_ respectively. For the given channel frequency response, frequency selectivity is generally governed by signal bandwidth.\n",
    "\n",
    "One can think of this as a transfer function being acted upon the signal $x(t)$ by $h(t,\\tau)$ to produce $y(t)$.\n",
    "\n",
    "![Intuitive fig](intuit_freq.png)\n",
    "\n",
    "Intuitively, if the signal bandwidth is narrow enough, we may transmit it over the flat region of the transfer function. In the time domain, this means $\\tau << T_s$ . One may also observe that this essentially means that ISI (inter-symbol interference) is not significant. We capture this in figure 1.\n",
    "\n",
    "To summarise, this requires $B_s << B_c$ or $T_s >> \\sigma_{\\tau}$.\n",
    "\n",
    "On the other hand if $B_s > B_c$ or $\\sigma_{\\tau} > 0.1T_s$, then we cannot make the former assumption. ISI occurs due the symbol duration being much shorter than the multipath delay spread. Owing to the condition, we often call it a wide band channel.\n",
    "\n",
    "## Time-Selective Fading Channel\n",
    "\n",
    "\n",
    "Depending on the extent of the Doppler spread, the received signal undergoes fast or slow fading. In a fast fading channel, the coherence time is smaller than the symbol period and thus, a channel impulse response quickly varies within the symbol period. Variation in the time domain is closely related to movement of the transmitter or receiver, which incurs a spread in the frequency domain, known as a Doppler shift.\n",
    "\n",
    "Let $f_m$ be the maximum Doppler shift. The bandwidth of Doppler spectrum,denoted as $B_d$,is given as $B_d = 2f_m$.In general,the coherence time, denoted as $T_c := \\frac{1}{f_m}$, is inversely proportional to Doppler spread.\n",
    "\n",
    "Therefore, $T_s > T_c$ implies $B_s < B_d$ , which is the condition for fast fading.\n",
    "\n",
    "But if the Doppler spread is much smaller than the bandwidth of the baseband transmit signal, we get slow fading, ie..., $T_s << T_c, B_s >> B_c$.\n",
    "\n",
    "Note, if we were to define coherence with a correlation of 0.5, then $T_c$ would be defined as:\n",
    "\n",
    "$$ T_c := \\frac{9}{16\\pi f_m}$$\n",
    "\n",
    "In order to account for both scenarios, we often just take the geometric mean between the two as the definition. Hence,\n",
    "\n",
    "\n",
    "$$ T_c := \\sqrt{\\frac{9}{16\\pi f_m^2}} = \\frac{0.423}{f_m} $$"
   ]
  },
  {
   "cell_type": "markdown",
   "metadata": {},
   "source": [
    "## Statistical Modelling\n",
    "\n",
    "Finally, armed with the parameters from the preceeding two sections, we can describe a statistical model for fading.\n",
    "\n",
    "Consider a plane wave arriving from angle $\\theta$ with respect to the direction of a terminal movement with a speed of $v$, where all waves are arriving from a horizontal direction on $x-y$ plane. This is depicted in figure 2.\n",
    "\n",
    "![Stat Modelling](planewave.png)\n",
    "\n",
    "As a mobile station moves, all planewaves arriving at the receiver undergo the Doppler shift. Let $x(t)$ be a baseband transmit signal. Then, the corresponding passband transmit signal is given as:\n",
    "\n",
    "$$ \\tilde{x}(t) = Re[x(t)\\exp(j2\\pi f_c t)]$$\n",
    "\n",
    "Passing through a scattered channel of $I$ different propagation paths with different Doppler shifts, the passband received signal can be represented as:\n",
    "\n",
    "\\begin{align*}\n",
    "\\tilde{y}(t) &= Re[\\sum_{i=1}^I C_i x(t-\\tau_i) \\exp(j2\\pi (f_c + f_i) t)] \\\\\n",
    "&= Re[y(t) \\exp(j2\\pi f_c t)] \\\\\n",
    "\\end{align*}\n",
    "\n",
    "where, $C_i, t_i$, and $f_i$ denote the channel gain, delay, and Doppler shift for the ith propagation\n",
    "path, respectively. For the mobile speed of $v$ and the wavelength of $l$, Doppler shift is given as:\n",
    "\n",
    "$$f_i = f_m \\cos \\theta_i = \\frac{v}{\\lambda} \\cos \\theta_i$$\n",
    "\n",
    "where $f_m$ is the maximum Doppler shift and $\\theta_i$ is the angle of arrival (AoA) for the ith planewave. Note that the baseband received signal is given as:\n",
    "\n",
    "$$y(t) = \\sum_{i=1}^I C_i \\exp(-j\\phi (t)) x(t-\\tau_i) \\quad \\text{where, } \\phi(t) = 2\\pi ((f_c+f_i)\\tau_i -f_it_i)$$\n",
    "\n",
    "We can model this by the transfer function:\n",
    "\n",
    "\n",
    "$$h(t,\\tau) = \\sum_{i=1}^I C_i \\exp(-j\\phi (t)) \\delta (t-\\tau_i)$$, with $\\delta(.)$ as the Dirac-delta function.\n",
    "\n",
    "If $\\tau_i << T_s$, we can approximate it as $\\overline{\\tau}$, thus:\n",
    "\n",
    "$$h(t,\\tau) = h(t) \\delta (t-\\overline{\\tau})$$\n",
    "\n",
    "Hence,\n",
    "\n",
    "$$\\tilde{y}(t) = h_I(t) \\cos 2\\pi f_ct - h_Q(t)\\sin 2\\pi f_ct$$, where $h_I(t)$ and $h_Q(t)$ are the inphase and quadrature components of $h(t)$ respectively, given as:\n",
    "\n",
    "$$h_I(t) = \\sum_i C_i \\cos \\phi_i(t), h_Q(t) = \\sum_i C_i \\sin \\phi_i(t) $$.\n",
    "\n",
    "\n",
    "## Central Limit Theorem\n",
    "\n",
    "We now make use of the central limit theorem, which is a variant of the law of large numbers. In essense, it states that if we were to add a sufficiently number of _normalised_ random quantities (formally random variables, provided independent), we would get a gaussian distribution.\n",
    "\n",
    "Formally,\n",
    "\n",
    "$$\\sum_{i=1}^n Z_i \\to^{\\text{in dist}} \\mathcal{N}(0,1) \\quad \\text{where, } Z_i = \\frac{X_i - \\mu_i}{\\sigma_i}$$\n",
    "\n",
    "In figure 3, which is an empirical verification of the Central Limit Theorem, notice how closely the gaussian approxmiates the normalised sum. In practice, we can safely assume the central limit theorem for summands greater than 30 in number. Provided they are independent."
   ]
  },
  {
   "cell_type": "code",
   "execution_count": 2,
   "metadata": {},
   "outputs": [
    {
     "name": "stderr",
     "output_type": "stream",
     "text": [
      "/Users/Ankivarun/anaconda3/envs/torch37/lib/python3.7/site-packages/ipykernel_launcher.py:28: MatplotlibDeprecationWarning: \n",
      "The 'normed' kwarg was deprecated in Matplotlib 2.1 and will be removed in 3.1. Use 'density' instead.\n"
     ]
    },
    {
     "data": {
      "image/png": "[encoded data removed]",
      "text/plain": [
       "<Figure size 432x288 with 1 Axes>"
      ]
     },
     "metadata": {
      "needs_background": "light"
     },
     "output_type": "display_data"
    }
   ],
   "source": [
    "import numpy as np\n",
    "import matplotlib.pyplot as plt\n",
    "plt.rcParams['figure.figsize'] = [10, 10]\n",
    "%matplotlib inline \n",
    "\n",
    "# Bunch of RVs\n",
    "ss1 = np.random.uniform(1, 3, 10000)\n",
    "ss2 = np.random.normal(1, 0.1, 10000)\n",
    "ss3 = np.random.beta(0.1, 1, 10000)\n",
    "ss4 = np.random.binomial(10, 0.1, 10000)\n",
    "ss4 = np.random.chisquare(4, 10000)\n",
    "ss5 = np.random.exponential(1.0, 10000)\n",
    "ss6 = np.random.uniform(1, 4, 10000)\n",
    "ss7 = np.random.normal(1, 0.1, 10000)\n",
    "ss8 = np.random.beta(0.44, 1, 10000)\n",
    "ss9 = np.random.binomial(10, 0.1, 10000)\n",
    "ss10 = np.random.chisquare(4, 10000)\n",
    "ss11 = np.random.exponential(1.0, 10000)\n",
    "\n",
    "ss = np.array([ss1, ss2, ss3, ss4, ss5, ss6, ss7, ss8, ss9, ss10, ss11])\n",
    "z = np.sum(ss, axis=0)\n",
    "\n",
    "# Plot normalised sum\n",
    "ss_norm = np.array([(s - np.mean(s)) / np.std(s) for s in ss])\n",
    "z_norm = np.sum(ss_norm, axis=0)\n",
    "z_norm = (z_norm - np.mean(z_norm)) / np.std(z_norm)\n",
    "\n",
    "count, bins, ignored = plt.hist(z_norm, 100, normed=True)\n",
    "# plt.plot(bins, np.ones_like(bins), linewidth=2, color='r')\n",
    "xx = np.linspace(-10, 10, 10000)\n",
    "# print(xx)\n",
    "gauss = 1 / np.sqrt(2 * np.pi) * np.exp(-(xx) ** 2 / 2)\n",
    "# print(gauss)\n",
    "\n",
    "plt.plot(xx, gauss, \"r\")\n",
    "plt.xlabel(\"X random sample\")\n",
    "plt.ylabel(\"Y probability density function\")\n",
    "plt.title(\"Empirical verification of the Central Limit Theorem\")\n",
    "plt.show()"
   ]
  },
  {
   "cell_type": "markdown",
   "metadata": {},
   "source": [
    "## Rayleigh Fading\n",
    "\n",
    "Now observe that if $I > 30$ we can assume CLT, hence, $h_I$ and $h_Q$ would be normally distributed.\n",
    "\n",
    "Thus, the amplitude of $\\tilde{y}(t) = \\sqrt{h_I^2(t) + h_Q^2(t)}$ follows the Rayleigh distribution.\n",
    "\n",
    "Meanwhile, if some of the scattering components are much stronger than most of the components, the fading process no longer follows the Rayleigh distribution, rather the  Rician distribution and thus, this fading process is referred to as Rician fading.\n",
    "\n",
    "The strongest scattering component usually corresponds to the line-of-sight (LOS) component (also referred to as specular components). This is modelled by the Rician distribution. Other than the LOS component, all the other components are non-line-of-sight (NLOS) components (referred to as scattering components), and are modelled by the Rayleigh distribution.\n",
    "\n",
    "Thus, $y = c + W_1 + W_2j$, with $W_1, W_2$ modelled as iid Gaussians of mean 0, variance $\\sigma^2$, $c$ represents the LOS component.\n",
    "\n",
    "It has been observed that the $y$ is a Rician variable with:\n",
    "\n",
    "$$ f_Y(y) = \\frac{y}{\\sigma^2} \\exp(-\\frac{y^2 + c^2}{\\sigma^2})J_o(yc/\\sigma^2)$$\n",
    "\n",
    ", where $J_o$ is the bessel function of the first kind."
   ]
  },
  {
   "cell_type": "markdown",
   "metadata": {},
   "source": [
    "## Exercise\n",
    "\n",
    "In the previous section, we modelled Line of Sight (LOS) by Rician and NLOS by Rayleigh. Now weigh LOS by $K [dB]$ in a linear fashion ($\\frac{K}{K+1},\\frac{1}{K+1}$). \n",
    "\n",
    "Show that for $K> 15dB$, the mixture looks Gaussian and for $K<-40dB$, it looks like a Rayleigh distribution. \n",
    "\n",
    "We have some starter code to get you started.\n",
    "\n",
    "\n",
    "Note: In the language of statistics, we call this property as convergence in distribution. There are also definitions for convergence in probability and almost surely convergence. We shall refer the interested reader to given references for this."
   ]
  },
  {
   "cell_type": "code",
   "execution_count": 8,
   "metadata": {},
   "outputs": [
    {
     "data": {
      "image/png": "[encoded data removed]",
      "text/plain": [
       "<Figure size 432x288 with 1 Axes>"
      ]
     },
     "metadata": {
      "needs_background": "light"
     },
     "output_type": "display_data"
    }
   ],
   "source": [
    "from scipy.special import jv\n",
    "\n",
    "arr = np.linspace(0,10,1000)\n",
    "\n",
    "# Zeroth order Bessel function\n",
    "J_0 = jv(0,arr)\n",
    "\n",
    "plt.plot(arr,J_0)\n",
    "plt.grid()\n",
    "plt.xlabel(\"$x$\")\n",
    "plt.ylabel(\"$J_0(x)$\")\n",
    "plt.title(\"Zeroth order Bessel function\")\n",
    "plt.show()"
   ]
  },
  {
   "cell_type": "markdown",
   "metadata": {},
   "source": [
    "## References\n",
    "\n",
    "1. MIMO OFDM Wireless Communications, Y. Chang and W. Yang, IEEE Press, 2010.\n",
    "2. [Convergence in Probability](https://www.statlect.com/asymptotic-theory/convergence-in-probability)\n",
    "3. [Scipy Docs: Bessel functions](https://docs.scipy.org/doc/scipy/reference/generated/scipy.special.jv.html#scipy.special.jv)"
   ]
  }
 ],
 "metadata": {
  "kernelspec": {
   "display_name": "Python 3",
   "language": "python",
   "name": "python3"
  },
  "language_info": {
   "codemirror_mode": {
    "name": "ipython",
    "version": 3
   },
   "file_extension": ".py",
   "mimetype": "text/x-python",
   "name": "python",
   "nbconvert_exporter": "python",
   "pygments_lexer": "ipython3",
   "version": "3.7.4"
  }
 },
 "nbformat": 4,
 "nbformat_minor": 4
}
