{
 "cells": [
  {
   "cell_type": "markdown",
   "metadata": {},
   "source": [
    "# Fading: An introduction to large scale fading"
   ]
  },
  {
   "cell_type": "markdown",
   "metadata": {},
   "source": [
    "The performance of wireless communication systems is mainly governed by the wireless channel environment. As opposed to the typically static and predictable characteristics of a wired channel, the wireless channel is rather dynamic and unpredictable, which makes an exact analysis of the wireless communication system often difficult.\n",
    "\n",
    "Radio propogation whose characteristics we are interested in studying is mainly affected by:\n",
    "* **Relfection**\n",
    "* **Diffraction**\n",
    "* **Scattering**\n",
    "\n",
    "Keeping in mind the range of radio wavelengths (1mm to 100km), we obtain reflection when the obstacle is large (say the earth or a building), diffraction when similar dimensions are encountered and finally scattering when the obstacle is much smaller.\n",
    "\n",
    "## Fading\n",
    "\n",
    "It refers to the variation of signal amplitude over time and frequency. In comparison to additive noise, fading is another source of signal degradation that is characterized as a non-additive signal disturbance in the wireless channel. It could be:\n",
    "\n",
    "* multi-path (induced) fading: due to multi-path propogation\n",
    "or\n",
    "* shadow fading: shadowing from obstacles that affect propogation.\n",
    "\n",
    "Fading is often characterised as:\n",
    "\n",
    "* Large scale: involves average path loss and shadowing. Eg: as a mobile moves through a large distance like a cell.\n",
    "\n",
    "* Small scale: involves rapid variation of signal levels due to multi-path interference or time variation.\n",
    "\n",
    "![small scale vs large scale fading](small_large_fading.png)\n",
    "\n",
    "## Link Budget\n",
    "\n",
    "Link budget is an important tool in the design of radio communication systems. We essentially plot the percentage of power in the signal versus distance. Accounting for all the gains and losses through the wireless channel to the receiver, it allows for predicting the received signal strength along with the required power margin. Path loss and fading are the two most important factors to consider in link budget.\n",
    "\n",
    "![link_budget](link_budget.png)\n",
    "\n",
    "Notice that the mean path loss is deterministic, while the shadowing and small scale fading are stochastic. Due to this randomness, we prefer to have a margin for error during design, typically around 1 to 2 %.\n",
    "\n",
    "The next section deals with how to model large scale fading for link budget design."
   ]
  },
  {
   "cell_type": "markdown",
   "metadata": {},
   "source": [
    "## General Path Loss Model\n",
    "\n",
    "The free-space propagation model is used for predicting the received signal strength in the line- of-sight (LOS) environment where there is no obstacle between the transmitter and receiver. It is often adopted for the satellite communication systems.\n",
    "\n",
    "Notation:\n",
    "\n",
    "* $d$: distance between the transmitter and receiver (in meters).\n",
    "* $G_t$: transmit gain;  $G_r$: receive gain\n",
    "* $\\lambda$: wavelength\n",
    "* $P_t$: transmission power\n",
    "* $L$: system loss factor, which is independent of propagation environment. The system loss factor represents overall attenuation or loss in the actual system hardware, including transmission line, filter, and antennas. Typically $L> 1$, with $L=1$ as ideal.\n",
    "\n",
    "We construct a simple model as:\n",
    "\n",
    "$$P_r(d) = \\frac{P_t G_tG_r\\lambda^2}{(4\\pi)^2d^2L}$$\n",
    "\n",
    "with this, we can obtain free-space path loss, $PL_F(d)$ (with $L=1$), in decibels:\n",
    "\n",
    "$$PL_F(d) = 10 \\log (P_t/P_r) = -10 \\log (\\frac{G_tG_r\\lambda^2}{(4\\pi)^2d^2})$$\n",
    "\n",
    "Excluding antenna gains, we get:\n",
    "\n",
    "$$PL_F(d) = 10\\log(P_t/P_r) = -20 \\log (\\frac{\\lambda}{4 \\pi d})$$\n",
    "\n",
    "Let us plot the free space model."
   ]
  },
  {
   "cell_type": "code",
   "execution_count": 39,
   "metadata": {},
   "outputs": [
    {
     "data": {
      "image/png": "[encoded data removed]",
      "text/plain": [
       "<Figure size 432x288 with 1 Axes>"
      ]
     },
     "metadata": {
      "needs_background": "light"
     },
     "output_type": "display_data"
    }
   ],
   "source": [
    "import numpy as np\n",
    "import matplotlib.pyplot as plt\n",
    "plt.rcParams['figure.figsize'] = [10, 10]\n",
    "%matplotlib inline \n",
    "\n",
    "def PL_free(d: float, fc: float = 1500e6, Gt: float = 1, Gr: float = 1):\n",
    "    \"\"\"\n",
    "    Free Space path loss model\n",
    "    :fc : Carrier frequency\n",
    "    :d : Distance between Tx and Rx (in m)\n",
    "    :Gt/ Gr : antenna gains\n",
    "\n",
    "    Out: PL: pathloss (dB)\n",
    "    \"\"\"\n",
    "    lam = 3e8 / fc\n",
    "    PL = (lam * np.sqrt(Gr * Gt)) / (4 * np.pi * d)\n",
    "    return -20 * np.log10(PL)\n",
    "\n",
    "\n",
    "d = np.linspace(1, 10 ** 3, num=10000)\n",
    "GtGr_ll = [(1, 1), (1, 0.5), (0.5, 0.5)]\n",
    "\n",
    "for GtGr in GtGr_ll:\n",
    "    Gt, Gr = GtGr\n",
    "    plt.semilogx(d, PL_free(d,Gt=Gt,Gr=Gr))\n",
    "\n",
    "legend = [f\"Gt {GtGr[0]} Gr {GtGr[1]}\" for GtGr in GtGr_ll]\n",
    "\n",
    "plt.xlabel(\"Distance [m]\")\n",
    "plt.ylabel(\"Path Loss [dB]\")\n",
    "plt.legend(legend)\n",
    "plt.grid()\n",
    "plt.show()    "
   ]
  },
  {
   "cell_type": "markdown",
   "metadata": {},
   "source": [
    "## Log distance path loss model\n",
    "\n",
    "We modify the previous free space model by adding an exponent term $n$ that varies with environment. In effect, we get:\n",
    "\n",
    "$$PL_{LD}(d) = PL_F(d_0) + 10n \\log (\\frac{d}{d_0}) $$, where $d_0$ is a reference distance at which or closer to the path loss inherits the characteristics of free-space loss. Essentially, we model the environment by free space ($n=2$) upto $d_0$, and then by the exponent $n$. We have $n$ typically between 2 and 6. Table 1 below (_source: Rappaport and Theodore et al., 2002_) contains path loss exponents for several environments typically encountered.\n",
    "\n",
    "![path_loss_exponent_table](path_exp_table.png)\n",
    "\n",
    "One typically sets $d_0$ depending on the task at hand. "
   ]
  },
  {
   "cell_type": "markdown",
   "metadata": {},
   "source": [
    "## Okumara-Hata Model\n",
    "\n",
    "This is a hand engineered model commonly adopted for path loss in an urban area. This particular model mainly covers the typical mobile communication system characteristics with a frequency band of 500–1500 MHz, cell radius of 1–100 km, and an antenna height of 30 m to 1000 m. \n",
    "\n",
    "The path loss at distance $d$ in the Okumura model is given as:\n",
    "\n",
    "$$PL_{OK}(d) [dB] = PL_F + A_{MU}(f,d) - G_{R_x} - G_{T_x} + G_{area}$$\n",
    "\n",
    "where:\n",
    "\n",
    "* $ A_{MU}(f,d)$ is the medium attenuation factor at a frequency $f$, distance $d$.\n",
    "* G_{area} is the gain for propogation in a specific area.\n",
    "* G_{R_x} and G_{T_x} are a function of antenna height, assuming other factors like antenna pattern don't matter.\n",
    "\n",
    "Okumura empirically obtained graphs for $A_{MU},G_{area}$ from actual measurements. This model was exntended to suburban and open areas as the Hata model, viz ...\n",
    "\n",
    "* **Urban:**\n",
    "\n",
    "$$PL_{Hata,U}(d) [dB] = 69.55 + 26.16 \\log f_c- 13.82 \\log h_{T_x} - C_{R_x} + (44.9 - 6.55\\log h_{T_x})\\log d$$\n",
    "\n",
    "* **Sub-urban:**\n",
    "\n",
    "$$PL_{Hata,SU}(d) [dB] = PL_{Hata,U} - 2 (\\log \\frac{f_c}{28})^2 -5.4(d)$$\n",
    "\n",
    "* **Rural or Open:**\n",
    "\n",
    "$$PL_{Hata,R}(d) [dB] = PL_{Hata,U} - 4.78 (\\log f_c)^2 + 18.33 \\log f_c - 40.97(d)$$\n",
    "\n",
    "with, $C_{R_x}$ being the correlation coefficient of the receive antenna, which depends on the size of\n",
    "coverage.\n",
    "\n",
    "For small to medium coverage, $C_{R_x}$ is given by:\n",
    "\n",
    "$$C_{R_x} = 0.8 + (1.1 \\log f_c - 0.7)h_{R_x} -1.56\\log f_c$$\n",
    "\n",
    "And for large coverage by:\n",
    "\n",
    "\\begin{align*}\n",
    "C_{R_x}= \\left\\{\n",
    "\\begin{array}{ll}\n",
    "      8.29 (\\log (1.54 h_{R_x}))^2 - 1.1  & 150 MHz\\leq f_c \\leq 200 MHz \\\\\n",
    "      3.2 (\\log (11.75 h_{R_x}))^2 - 4.97 & 200MHz\\leq f_c\\leq 1500 MHz\\\\\n",
    "\\end{array} \n",
    "\\right.\n",
    "\\end{align*}\n",
    "\n",
    "We plot the _Hata Model_ below. Notice that path loss is significantly higher for urban as compared to suburban or rural (open) regions, simply due to the dense obstructions observed in urban areas."
   ]
  },
  {
   "cell_type": "code",
   "execution_count": 40,
   "metadata": {},
   "outputs": [
    {
     "data": {
      "image/png": "[encoded data removed]",
      "text/plain": [
       "<Figure size 432x288 with 1 Axes>"
      ]
     },
     "metadata": {
      "needs_background": "light"
     },
     "output_type": "display_data"
    }
   ],
   "source": [
    "def PL_Hata(\n",
    "    d: float, fc: float = 1500e6, hrx: float = 2, htx: float = 30, env: str = \"Urban\"\n",
    "):\n",
    "    \"\"\"\n",
    "    Hata path loss model, for large scale coverage\n",
    "    :fc : Carrier frequency\n",
    "    :d : Distance between Tx and Rx (in m)\n",
    "    :hrx: height of receiving antenna\n",
    "    :htx : height of transmitting antenna\n",
    "    :env: Environment\n",
    "\n",
    "    Out: PL: pathloss (dB)\n",
    "    \"\"\"\n",
    "    assert env in [\"Urban\", \"Suburban\", \"Rural\"], f\"Environment {env} not defined.\"\n",
    "    fc /= 1e6\n",
    "\n",
    "    # Low\n",
    "    if (fc >= 150) and (fc <= 200):\n",
    "        C_rx = 8.29 * (np.log10(1.54 * hrx)) ** 2 - 1.1\n",
    "    elif fc >= 200:\n",
    "        C_rx = 3.2 * (np.log10(11.75 * hrx)) ** 2 - 4.97\n",
    "    else:\n",
    "        C_rx = 0.8 + (1.1 * np.log10(fc) - 0.7) * hrx - 1.56 * np.log10(fc)\n",
    "\n",
    "    PL = (\n",
    "        69.55\n",
    "        + 26.16 * np.log10(fc)\n",
    "        - 13.82 * np.log10(htx)\n",
    "        - C_rx\n",
    "        + (44.9 - 6.55 * np.log10(htx)) * np.log10(d /1000)\n",
    "    )\n",
    "\n",
    "    if env == \"Suburban\":\n",
    "        PL -= 2 * ((np.log10(fc / 28)) ** 2) - 5.4\n",
    "    elif env == \"Rural\":\n",
    "        PL += (18.33 - 4.78 * np.log10(fc)) * np.log10(fc) - 40.97\n",
    "    return PL\n",
    "\n",
    "\n",
    "d = np.linspace(10, 10 ** 5, num=10000)\n",
    "\n",
    "# environments\n",
    "legend = [\"Urban\",\"Suburban\",\"Rural\"]\n",
    "\n",
    "for env in legend:\n",
    "    plt.semilogx(d, PL_Hata(d,env=env))\n",
    "\n",
    "plt.xlabel(\"Distance [m]\")\n",
    "plt.ylabel(\"Path Loss [dB]\")\n",
    "plt.title(\"Hata PathLoss model\")\n",
    "plt.legend(legend)\n",
    "plt.grid()\n",
    "plt.show()   "
   ]
  },
  {
   "cell_type": "markdown",
   "metadata": {},
   "source": [
    "## Exercises\n",
    "\n",
    "### Question 1\n",
    "\n",
    "In a similar manner to figure 1, plot the log distance and log normal plots for $f_c = 1500 MHz$, distance varying from 1m to 1km. Take values for $n$ from Table 1. Assume $\\sigma=3, d_0= 100m$.\n",
    "\n",
    "Compare for $G_t, G_r = (1,1),(1,0.5), (0.5, 0.5)$.\n",
    "\n",
    "### Question 2\n",
    "\n",
    "We introduce the IEEE 802.16dA model, which accounts for macro cells in sub-urban regions. It is modelled after and is appropriate for hilly terrain with moderate-to-heavy tree densities.\n",
    "\n",
    "In this model:\n",
    "\n",
    "$$PL_{802.16A}(d) [dB] = PL_F(d_0) + 10\\gamma \\log_{10} (\\frac{d}{d_0}) + C_f + C_{R_x} \\quad \\text{for } d>d_0$$\n",
    "\n",
    "Where:\n",
    "\n",
    "* $\\gamma = 4.6 - 4*h_{T_x} + 3.6/h_{T_x}$ \n",
    "* $d_0=100m$\n",
    "* $h_{T_x}$ is the transmitting antenna height\n",
    "* $C_f = 6 \\log_10 (\\frac{f_c}{2000})$: the correlation coefficient for carrier frequency\n",
    "* $C_{R_x} = -10.8 \\log_10 (\\frac{h_{R_x}}{2})$: the correlation coefficient for the receive antenna\n",
    "\n",
    "Plot the path loss for this model. Notice that it is discontinuous. Propose a method to smoothen it by derving a new reference distance. (_Hint: Set equate the free space loss to the path loss at the reference distance_)"
   ]
  },
  {
   "cell_type": "markdown",
   "metadata": {},
   "source": [
    "## References\n",
    "\n",
    "1. MIMO OFDM Wireless Communications, Y. Chang and W. Yang, IEEE Press, 2010.\n",
    "2. [Numpy Docs](https://numpy.org).\n",
    "3. [Matplotlib Docs](https://matplotlib.org)."
   ]
  }
 ],
 "metadata": {
  "kernelspec": {
   "display_name": "Python 3",
   "language": "python",
   "name": "python3"
  },
  "language_info": {
   "codemirror_mode": {
    "name": "ipython",
    "version": 3
   },
   "file_extension": ".py",
   "mimetype": "text/x-python",
   "name": "python",
   "nbconvert_exporter": "python",
   "pygments_lexer": "ipython3",
   "version": "3.7.4"
  }
 },
 "nbformat": 4,
 "nbformat_minor": 4
}
