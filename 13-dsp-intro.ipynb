{
 "cells": [
  {
   "cell_type": "markdown",
   "metadata": {},
   "source": [
    "# Discrete Time Signal Processing: A Primer"
   ]
  },
  {
   "cell_type": "markdown",
   "metadata": {},
   "source": [
    "Discrete time signals are represented as a sequence of numbers. Say $x$ represents a sequence of numbers, then we may use $x[n]$ to denote the $n^{th}$ element in the sequence $x$. Here, $n$ is an integer. In practical terms, this representation could arise from periodic sampling of a continuous time signal. Each number in the sequence corresponds to a sample obtained at a sampling interval.\n",
    "\n",
    "A visualisation of a discrete time signal $x[n]$ is illustrated below."
   ]
  },
  {
   "cell_type": "code",
   "execution_count": 2,
   "metadata": {},
   "outputs": [
    {
     "data": {
      "image/png": "[encoded data removed]",
      "text/plain": [
       "<matplotlib.figure.Figure at 0x7fe124b39750>"
      ]
     },
     "metadata": {},
     "output_type": "display_data"
    }
   ],
   "source": [
    "%matplotlib inline \n",
    "import numpy as np\n",
    "import matplotlib.pyplot as plt\n",
    "\n",
    "t = np.arange(0,0.2,0.01); # Sampling time instants\n",
    "x = np.sin(2*np.pi*10*t);\n",
    "\n",
    "plt.stem(x)\n",
    "plt.xlabel('Sample Index - n')\n",
    "plt.ylabel('Sample Value - x[n]')\n",
    "\n",
    "plt.show()"
   ]
  },
  {
   "cell_type": "markdown",
   "metadata": {},
   "source": [
    "The above example shows a discrete time sine signal of 20 samples. This could be interpreted as samples of a continuous time sine signal at every $0.01$ seconds."
   ]
  },
  {
   "cell_type": "markdown",
   "metadata": {},
   "source": [
    "Most of the concepts that apply to continous time signals intuitively extend to discrete time signals. The reader is urged to draw analogies to aid in understanding. There are however, major differences as well. For example, one can delay a discrete time signal only by an integer number of samples. Another example is the fact that a discrete time periodic signal mandates that the time period be an integer multiple of the sampling time."
   ]
  },
  {
   "cell_type": "markdown",
   "metadata": {},
   "source": [
    "## Discrete Time Systems"
   ]
  },
  {
   "cell_type": "markdown",
   "metadata": {},
   "source": [
    "A discrete time system is an entity that takes in a discrete time sequence as an input, and gives out a discrete time sequence as an output. Such a system may be thought of as an operator or a transformation. We'll denote the output of such a system using $y[n]$ and the input using $x[n]$. As with continuous time systems, some types of discrete time systems are:\n",
    "\n",
    "1. **Memoryless Systems**: Output $y[n]$ depends only on the input $x[n]$ for any n.\n",
    "2. **Linear Systems**: Have the additivity and homogeneity properties. In simple terms, they are defined by the principle of superposition\n",
    "3. **Time Invariant Systems**: A system in which a shift in the input sequence causes a corresponding identical shift in the output sequence."
   ]
  },
  {
   "cell_type": "code",
   "execution_count": 3,
   "metadata": {},
   "outputs": [],
   "source": [
    "# Example: The accumulator as a Time Invariant System"
   ]
  },
  {
   "cell_type": "code",
   "execution_count": 4,
   "metadata": {},
   "outputs": [],
   "source": [
    "# Example: Linear/NonLinear Systems"
   ]
  },
  {
   "cell_type": "markdown",
   "metadata": {},
   "source": [
    "Causality and Stability are two important aspects of a discrete time system as well. \n",
    "\n",
    "1. **Causality**: A system is considered causal if its output $y[n_1]$ at sample instant $n_1$ depends only on $x[n]$ where $n \\le n_1$. Such systems are non-anticipative (they can't predict the future).\n",
    "2. **Stability**: A common criteria for stability is the BIBO (Bounded Input Bounded Output) stability criteria. If the magnitude of input $x[n]$ never goes unbounded, then the magnitude of a BIBO stable system's output $y[n]$ is also never unbounded.\n",
    "\n"
   ]
  },
  {
   "cell_type": "markdown",
   "metadata": {},
   "source": [
    "### Linear Time Invariant Systems"
   ]
  },
  {
   "cell_type": "markdown",
   "metadata": {},
   "source": [
    "Linear Time Invariant (LTI) Systems are an important class of systems in signal processing. The property of linearity and time invariance leads to some convenient properties and representations for such systems. We will now go through some of the basic concepts in LTI systems."
   ]
  },
  {
   "cell_type": "markdown",
   "metadata": {},
   "source": [
    "#### Impulse Response"
   ]
  },
  {
   "cell_type": "markdown",
   "metadata": {},
   "source": [
    "The impulse response $h[n]$ of an LTI system is defined as the output of the system when the input is an impulse $\\delta[n]$."
   ]
  },
  {
   "cell_type": "markdown",
   "metadata": {},
   "source": [
    "#### Convolution"
   ]
  },
  {
   "cell_type": "markdown",
   "metadata": {},
   "source": [
    "The output $y[n]$ of an LTI system for any arbitrary input $x[n]$ can be written as:\n",
    "\n",
    "$y[n]=\\sum _{ k=-\\infty  }^{ \\infty  }{ x[k]h[n-k] } $\n",
    "\n",
    "The above expression is referred to as the convolution sum and is represented by the operator notation:\n",
    "\n",
    "$y[n]=x[n]\\ast h[n]$"
   ]
  },
  {
   "cell_type": "code",
   "execution_count": 1,
   "metadata": {},
   "outputs": [
    {
     "ename": "NameError",
     "evalue": "name 'np' is not defined",
     "output_type": "error",
     "traceback": [
      "\u001b[0;31m---------------------------------------------------------------------------\u001b[0m",
      "\u001b[0;31mNameError\u001b[0m                                 Traceback (most recent call last)",
      "\u001b[0;32m<ipython-input-1-6d9ccf96ae17>\u001b[0m in \u001b[0;36m<module>\u001b[0;34m\u001b[0m\n\u001b[1;32m      6\u001b[0m \u001b[0;31m# 4. matplotlib.pyplot.figure()\u001b[0m\u001b[0;34m\u001b[0m\u001b[0;34m\u001b[0m\u001b[0;34m\u001b[0m\u001b[0m\n\u001b[1;32m      7\u001b[0m \u001b[0;34m\u001b[0m\u001b[0m\n\u001b[0;32m----> 8\u001b[0;31m \u001b[0mx\u001b[0m \u001b[0;34m=\u001b[0m \u001b[0mnp\u001b[0m\u001b[0;34m.\u001b[0m\u001b[0marray\u001b[0m\u001b[0;34m(\u001b[0m\u001b[0;34m[\u001b[0m\u001b[0;36m1.\u001b[0m\u001b[0;34m,\u001b[0m\u001b[0;34m-\u001b[0m\u001b[0;36m3.\u001b[0m\u001b[0;34m,\u001b[0m\u001b[0;36m3.\u001b[0m\u001b[0;34m,\u001b[0m\u001b[0;36m0.\u001b[0m\u001b[0;34m,\u001b[0m\u001b[0;36m2.\u001b[0m\u001b[0;34m,\u001b[0m\u001b[0;34m-\u001b[0m\u001b[0;36m1.\u001b[0m\u001b[0;34m,\u001b[0m\u001b[0;36m0.\u001b[0m\u001b[0;34m]\u001b[0m\u001b[0;34m)\u001b[0m\u001b[0;34m\u001b[0m\u001b[0;34m\u001b[0m\u001b[0m\n\u001b[0m\u001b[1;32m      9\u001b[0m \u001b[0mh\u001b[0m \u001b[0;34m=\u001b[0m \u001b[0mnp\u001b[0m\u001b[0;34m.\u001b[0m\u001b[0marray\u001b[0m\u001b[0;34m(\u001b[0m\u001b[0;34m[\u001b[0m\u001b[0;36m0.\u001b[0m\u001b[0;34m,\u001b[0m\u001b[0;36m3.\u001b[0m\u001b[0;34m,\u001b[0m\u001b[0;36m2.\u001b[0m\u001b[0;34m,\u001b[0m\u001b[0;36m1.\u001b[0m\u001b[0;34m,\u001b[0m\u001b[0;36m0.\u001b[0m\u001b[0;34m,\u001b[0m\u001b[0;36m0.\u001b[0m\u001b[0;34m]\u001b[0m\u001b[0;34m)\u001b[0m\u001b[0;34m\u001b[0m\u001b[0;34m\u001b[0m\u001b[0m\n\u001b[1;32m     10\u001b[0m \u001b[0;34m\u001b[0m\u001b[0m\n",
      "\u001b[0;31mNameError\u001b[0m: name 'np' is not defined"
     ]
    }
   ],
   "source": [
    "# Example: Convolution\n",
    "# The reader may also look up the following functions and learn their use in python:\n",
    "# 1. numpy.array()\n",
    "# 2. numpy.convolve()\n",
    "# 3. matplotlib.pyplot.subplot()\n",
    "# 4. matplotlib.pyplot.figure()\n",
    "\n",
    "x = np.array([1.,-3.,3.,0.,2.,-1.,0.])\n",
    "h = np.array([0.,3.,2.,1.,0.,0.])\n",
    "\n",
    "y = np.convolve(x,h)\n",
    "\n",
    "fig=plt.figure(figsize=(18, 10), dpi= 80, facecolor='w', edgecolor='k')\n",
    "\n",
    "plt.subplot(2,2,1)\n",
    "plt.stem(x)\n",
    "plt.xlabel('Sample Index - n')\n",
    "plt.ylabel('Sample Value - x[n]')\n",
    "plt.ylim([-10,10])\n",
    "plt.xlim([-1,7])\n",
    "\n",
    "plt.subplot(2,2,2)\n",
    "plt.stem(h,'c')\n",
    "plt.xlabel('Sample Index - n')\n",
    "plt.ylabel('Sample Value - h[n]')\n",
    "plt.ylim([-10,10])\n",
    "plt.xlim([-1,7])\n",
    "\n",
    "plt.subplot(2,1,2)\n",
    "plt.stem(y,'g')\n",
    "plt.xlabel('Sample Index - n')\n",
    "plt.ylabel('Sample Value - y[n]')\n",
    "plt.ylim([-10,10])\n",
    "plt.xlim([-1,12])\n",
    "\n",
    "plt.show()"
   ]
  },
  {
   "cell_type": "markdown",
   "metadata": {},
   "source": [
    "#### Properties of LTI Systems"
   ]
  },
  {
   "cell_type": "markdown",
   "metadata": {},
   "source": [
    "Many properties of LTI systems directly arise from the convolution sum expression itself.\n",
    "\n",
    "Convolution is commutative:\n",
    "$y[n]=x[n]\\ast h[n]=h[n]\\ast x[n]$\n",
    "\n",
    "Convolution distributes over addition:\n",
    "$x[n]\\ast (h_1[n]+h_2[n])=x[n]\\ast h_1[n]+x[n]\\ast h_2[n]$\n",
    "\n",
    "Convolution is associative:\n",
    "$(x[n]\\ast h_{ 1 }[n])\\ast h_{ 2 }[n]=x[n]\\ast (h_{ 1 }[n]\\ast h_{ 2 }[n])$"
   ]
  },
  {
   "cell_type": "code",
   "execution_count": 6,
   "metadata": {},
   "outputs": [],
   "source": [
    "# Example: Parallel and Cascade combinations. Equivalent systems"
   ]
  },
  {
   "cell_type": "markdown",
   "metadata": {},
   "source": [
    "### Frequency-Domain Representation of Discrete Time Signals and Systems"
   ]
  },
  {
   "cell_type": "markdown",
   "metadata": {},
   "source": [
    "It can be shown that ${ e }^{ j\\omega n }$ is an eigenfuntion of an LTI system. The corresponding eigenvalue is represented as $H({ e }^{ j\\omega n })$ and is called the frequency response of the system.\n",
    "\n",
    "For input $x[n] = { e }^{ j\\omega n }$, the corresponding output of an LTE system with impulse response $h[n]$ is easily shown to be:\n",
    "$$\n",
    "\\begin{align}\n",
    "y[n] =H(e^{ j\\omega  })e^{ j\\omega n }\n",
    "\\end{align}\n",
    "$$"
   ]
  },
  {
   "cell_type": "code",
   "execution_count": 7,
   "metadata": {},
   "outputs": [],
   "source": [
    "# Example: Frequency response of a Moving Average system (or some other simple example)"
   ]
  },
  {
   "cell_type": "markdown",
   "metadata": {},
   "source": [
    "### Frequency-Domain Representation of Discrete Time Signals and Systems"
   ]
  },
  {
   "cell_type": "markdown",
   "metadata": {},
   "source": [
    "Many sequences can be represented by their Fourier Integral:\n",
    "$x[n]=\\frac { 1 }{ 2\\pi  } \\int _{ -\\pi  }^{ \\pi  }{ X(e^{ j\\omega  }) } e^{ j\\omega n }d\\omega$\n",
    "\n",
    "Where: $X(e^{ j\\omega  })= \\sum _{ n=-\\infty  }^{ \\infty  }{ x[n] } e^{ -j\\omega n }$\n",
    "\n",
    "\n",
    "The above two equations together are the Fourier representation for the sequence. The former of the above is the _inverse Fourier transform_. The latter equations is the _Fourier transform_ is used to compute $H(e^{ j\\omega  })$ from the sequence $x[n]$."
   ]
  },
  {
   "cell_type": "code",
   "execution_count": null,
   "metadata": {},
   "outputs": [],
   "source": [
    "# Example: computing the Fourier Transform as a summation"
   ]
  },
  {
   "cell_type": "markdown",
   "metadata": {},
   "source": [
    "#### Symmetry Properties of the Fourier Transform"
   ]
  },
  {
   "cell_type": "markdown",
   "metadata": {},
   "source": [
    "%TODO Put Image with properties Here"
   ]
  },
  {
   "cell_type": "code",
   "execution_count": 7,
   "metadata": {},
   "outputs": [],
   "source": [
    "# Example of conjugate symmetry and conjugate anti-symmetry"
   ]
  },
  {
   "cell_type": "markdown",
   "metadata": {},
   "source": [
    "#### Fourier Transform Theorems"
   ]
  },
  {
   "cell_type": "markdown",
   "metadata": {},
   "source": [
    "Added to the symmetry properties, there are a variety of theorems which ease the manipulation of Fourier Transforms for various applications. They are: %TODO put image with theorems here"
   ]
  },
  {
   "cell_type": "code",
   "execution_count": 8,
   "metadata": {},
   "outputs": [],
   "source": [
    "# Example of Parseval's Theorem"
   ]
  },
  {
   "cell_type": "markdown",
   "metadata": {},
   "source": [
    "## References"
   ]
  },
  {
   "cell_type": "markdown",
   "metadata": {},
   "source": [
    "1. Oppenheim, Schafer: _Discrete Time Signal Processing_ Third Edition"
   ]
  }
 ],
 "metadata": {
  "kernelspec": {
   "display_name": "Python 3",
   "language": "python",
   "name": "python3"
  },
  "language_info": {
   "codemirror_mode": {
    "name": "ipython",
    "version": 3
   },
   "file_extension": ".py",
   "mimetype": "text/x-python",
   "name": "python",
   "nbconvert_exporter": "python",
   "pygments_lexer": "ipython3",
   "version": "3.6.8"
  }
 },
 "nbformat": 4,
 "nbformat_minor": 1
}
