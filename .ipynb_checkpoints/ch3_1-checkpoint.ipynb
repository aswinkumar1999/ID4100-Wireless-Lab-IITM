{
 "cells": [
  {
   "cell_type": "markdown",
   "metadata": {},
   "source": [
    "# Chapter 3: Radio Propagation and Propagation Path-Loss Models"
   ]
  },
  {
   "cell_type": "markdown",
   "metadata": {},
   "source": [
    "## Example 3.1, Page 51"
   ]
  },
  {
   "cell_type": "code",
   "execution_count": 3,
   "metadata": {},
   "outputs": [
    {
     "name": "stdout",
     "output_type": "stream",
     "text": [
      "Free space attenuation is 87 dB \n",
      "\n",
      "Reflecting surface attenuation is 86 dB \n",
      " \n"
     ]
    }
   ],
   "source": [
    "import math\n",
    "\n",
    "#Variable declaration\n",
    "hb=100; #in feets(height of BS antenna)\n",
    "hm=5;  # in feets(height of mobile antenna)\n",
    "f=881.52;#in MHz\n",
    "lamda=1.116;  #in feet\n",
    "d=5000;  #in feet\n",
    "Gb=10**0.8;  #8dB(BS antenna gain)\n",
    "Gm=10**0;   # 0dB (Mobile antenna gain)\n",
    "\n",
    "#Calculations&Results\n",
    "free_atten=(4*math.pi*d/lamda)**2*(Gb*Gm)**-1;\n",
    "y=round(10*math.log10(free_atten));\n",
    "print 'Free space attenuation is %d dB \\n'%y\n",
    "reflect_atten= (d**4/(hb*hm)**2)*(Gb*Gm)**-1;\n",
    "x=round(10*math.log10(reflect_atten));\n",
    "print 'Reflecting surface attenuation is %d dB \\n '%x"
   ]
  },
  {
   "cell_type": "markdown",
   "metadata": {},
   "source": [
    "## Example 3.2, Page 52"
   ]
  },
  {
   "cell_type": "code",
   "execution_count": 5,
   "metadata": {},
   "outputs": [
    {
     "name": "stdout",
     "output_type": "stream",
     "text": [
      "Received signal power is -138 dBW \n",
      "\n",
      "SNR ratio is 31 dB \n",
      "\n"
     ]
    }
   ],
   "source": [
    "import math\n",
    "\n",
    "#Variable declaration\n",
    "d=8000; #Distance between base station and mobile station\n",
    "f=1.5*10**9;#in Hz \n",
    "lamda=0.2;  #in metres\n",
    "Pt=10; #BS transmitted power in watts\n",
    "Lo=8;   #Total system losses in dB\n",
    "Nf=5;    #Mobile receiver noise figure in dB\n",
    "T=290;   #temperature in degree kelvin\n",
    "BW=1.25*10**6; #in Hz\n",
    "Gb=8;  #in dB\n",
    "Gm=0;   #in dB\n",
    "Hb=30;  #in metres\n",
    "Hm=3.;   #in metres\n",
    "B=1.38*10**-23; #Boltzmann's constant\n",
    "\n",
    "#Calculations&Results\n",
    "Free_Lp=20*math.log10(Hm*Hb/d**2);\n",
    "Pr=Free_Lp-Lo+Gm+Gb+Pt;  #in dBW\n",
    "Te=T*(3.162-1);\n",
    "Pn=B*(Te+T)*BW;\n",
    "print 'Received signal power is %d dBW \\n'%(10*math.log10(Pn))\n",
    "SNR=Pr-10*math.log10(Pn);\n",
    "print 'SNR ratio is %d dB \\n'%(round(SNR))"
   ]
  },
  {
   "cell_type": "markdown",
   "metadata": {},
   "source": [
    "## Example 3.3, Page 58"
   ]
  },
  {
   "cell_type": "code",
   "execution_count": 8,
   "metadata": {},
   "outputs": [
    {
     "name": "stdout",
     "output_type": "stream",
     "text": [
      "Using equation 3.11 and including shadow effect we get\n",
      "Received power is -80.6 dBm \n",
      "\n",
      "Allowable path loss is 116.6 dB \n",
      "\n"
     ]
    }
   ],
   "source": [
    "import math\n",
    "\n",
    "#Variable declaration\n",
    "d=3*1000;#in metres\n",
    "Y=4;# path loss exponent\n",
    "Pt=4;  #Transmitted power in watts\n",
    "f=1800*10**6;#in Hz\n",
    "Shadow=10.5;  #in dB\n",
    "d0=100.;#in metres\n",
    "P0=-32;   #in dBm\n",
    "\n",
    "#Calculations&Results\n",
    "print \"Using equation 3.11 and including shadow effect we get\"\n",
    "Pr=P0+10*Y*math.log10(d0/d)+Shadow;\n",
    "print 'Received power is %.1f dBm \\n'%Pr\n",
    "path_loss=10*math.log10(Pt*1000)-Pr;\n",
    "print 'Allowable path loss is %.1f dB \\n'%path_loss"
   ]
  },
  {
   "cell_type": "markdown",
   "metadata": {},
   "source": [
    "## Example 3.4, Page 58"
   ]
  },
  {
   "cell_type": "code",
   "execution_count": 10,
   "metadata": {},
   "outputs": [
    {
     "name": "stdout",
     "output_type": "stream",
     "text": [
      "Using equation given in Problem i.e Lp=133.2+40*math.log(d) we get,\n",
      "Separation between transmitter and receiver as 1.48 km\n"
     ]
    }
   ],
   "source": [
    "#Variable declaration\n",
    "shadow=10.; #in dB\n",
    "Lp=150;  #in dB\n",
    "\n",
    "#Calculations&Results\n",
    "print \"Using equation given in Problem i.e Lp=133.2+40*math.log(d) we get,\"\n",
    "d=10**((Lp-10-133.2)/40);\n",
    "print \"Separation between transmitter and receiver as %.2f km\"%d"
   ]
  },
  {
   "cell_type": "markdown",
   "metadata": {},
   "source": [
    "## Example 3.5, Page 61"
   ]
  },
  {
   "cell_type": "code",
   "execution_count": 11,
   "metadata": {},
   "outputs": [
    {
     "name": "stdout",
     "output_type": "stream",
     "text": [
      "Channel coherence time is 0.0021 sec \n",
      "\n",
      "Symbol interval is 52 microsec \n",
      "\n",
      "As the symbol interval is much smaller compared to the channel coherence time. So, Symbol distortion is minimal and fading is slow.\n",
      "\n",
      "Coherence Bandwidth is 79.58 kHz \n",
      "\n"
     ]
    }
   ],
   "source": [
    "import math\n",
    "\n",
    "#Variable declaration\n",
    "v=60*0.44704;  #.. mph to mps\n",
    "fc=860*10**6;#in Hz\n",
    "td=2*10**-6; #RMS delay spread in sec\n",
    "c=3.*10**8;# speed of light in m/sec\n",
    "Rs=19200.; #Coded symbol rate in bps\n",
    "\n",
    "#Calculations&Results\n",
    "lamda=c/fc;\n",
    "fm=v/lamda; #Maximum doppler shift\n",
    "tc=1/(2*math.pi*fm);#Channel coherence time\n",
    "print 'Channel coherence time is %.4f sec \\n'%tc\n",
    "ts=1/Rs; #symbol interval\n",
    "print 'Symbol interval is %d microsec \\n'%(ts*10**6);\n",
    "print \"As the symbol interval is much smaller compared to the channel coherence time. So, Symbol distortion is minimal and fading is slow.\";\n",
    "print \"\";\n",
    "Bc=1/(2*math.pi*td);\n",
    "print 'Coherence Bandwidth is %.2f kHz \\n'%(Bc/1000)"
   ]
  },
  {
   "cell_type": "markdown",
   "metadata": {},
   "source": [
    "## Example 3.6, Page 65"
   ]
  },
  {
   "cell_type": "code",
   "execution_count": 13,
   "metadata": {},
   "outputs": [
    {
     "name": "stdout",
     "output_type": "stream",
     "text": [
      "NO of fades per second are 18.44  \n",
      "\n",
      "Average fade duration is 0.0073 sec \n",
      " \n",
      "Maximum velocity of mobile is 6.67 m/sec = 24 Km/hour \n",
      "\n"
     ]
    }
   ],
   "source": [
    "import math\n",
    "\n",
    "#Variable declaration\n",
    "p=1;# reﬂection coefﬁcient of ground \n",
    "c=3.*10**8;# velocity of light in free space(m/sec)\n",
    "e=2.71828;#Euler's number\n",
    "fm=20;  #in Hz\n",
    "fc=900*10**6; #carrier frequency in Hz\n",
    "\n",
    "#Calculations&Results\n",
    "Nr=math.sqrt(2*math.pi)*fm*p*e**-(p**2);\n",
    "print 'NO of fades per second are %.2f  \\n'%Nr\n",
    "Afd=e**-(p**2)/(p*fm*math.sqrt(2*math.pi));\n",
    "print 'Average fade duration is %.4f sec \\n '%Afd\n",
    "v=fm*c/fc;\n",
    "print 'Maximum velocity of mobile is %.2f m/sec = %d Km/hour \\n'%(v,v*18/5);"
   ]
  },
  {
   "cell_type": "markdown",
   "metadata": {},
   "source": [
    "## Example 3.7, Page 70"
   ]
  },
  {
   "cell_type": "code",
   "execution_count": 1,
   "metadata": {},
   "outputs": [
    {
     "data": {
      "image/png": "[encoded data removed]",
      "text/plain": [
       "<matplotlib.figure.Figure at 0x7f68348c93d0>"
      ]
     },
     "metadata": {},
     "output_type": "display_data"
    },
    {
     "name": "stdout",
     "output_type": "stream",
     "text": [
      "L50 values by Cost 231 model\n",
      "129.03  140.47  147.16  151.91  155.59 \n",
      " \n",
      "L50 values bu Okumura/Hata model\n",
      "125.13  135.73  141.93  146.34  149.75 \n",
      " \n",
      "The results from the plot of two models shows that the calculated path loss with the COST 231 model is higher than the value obtained by the Okumura/Hata model.\n"
     ]
    }
   ],
   "source": [
    "import math\n",
    "import matplotlib\n",
    "import matplotlib.pyplot as plt\n",
    "import numpy as np\n",
    "%matplotlib inline\n",
    "\n",
    "#Variable declaration\n",
    "d=np.array([1, 2, 3, 4, 5]);  #in km\n",
    "hb=30; #Height of BS antenna in metres\n",
    "hm=2;# height of mobile antenna in matres\n",
    "fc=900;#carrier frequency in MHz\n",
    "W=15;  #street width(m)\n",
    "b=30;  # distance between building along radio path (m) \n",
    "phi=90; # incident angle relative to the street\n",
    "hr=30; #in m\n",
    "\n",
    "#Calculations\n",
    "dellhm=hr-hm;\n",
    "#L50=Lf+Lrts+Lms\n",
    "\n",
    "# By COST 231 model\n",
    "Lf=32.4+20*np.log10(d)+20*np.log10(fc);\n",
    "L0=4-0.114*(phi-55);\n",
    "Lrts=-16.9-10*math.log10(W)+10*math.log10(fc)+20*math.log10(dellhm)+L0;\n",
    "Lbsh=-18*math.log10(11);\n",
    "ka=54-0.8*hb;\n",
    "dellhb=hb-hr;\n",
    "kd=18-15*dellhb/dellhm;\n",
    "kf=4+0.7*(fc/925-1);\n",
    "Lms=Lbsh+ka+kd*np.log10(d)+kf*np.log10(fc)-9*np.log10(b);\n",
    "L50=np.array([0, 0, 0, 0, 0])\n",
    "L50=Lf+Lrts+Lms;\n",
    "\n",
    "#Okumura/Hata model\n",
    "ahm=(1.1*math.log10(fc)-0.7)*hm-(1.56*math.log10(fc)-0.8);\n",
    "L_50=69.55+26.16*np.log10(fc)+(44.9-6.55*np.log10(hb))*np.log10(d)-13.82*np.log10(hb)-ahm;\n",
    "L_50 = np.array(L_50)\n",
    "\n",
    "#Results\n",
    "fig,ax1 = plt.subplots()\n",
    "ax1.plot(d,L_50,'b-')\n",
    "ax1.set_xlabel('Distance from transmitter(in km)')\n",
    "ax1.set_ylabel('Path loss (in dB)')\n",
    "ax2 = ax1.twinx()\n",
    "ax2.plot(d,L50,'r')\n",
    "ax1.legend(['COST 231 model'],loc=0)\n",
    "ax2.legend(['HATA model'],loc=0)\n",
    "ax1.grid()\n",
    "plt.show()\n",
    "print \"L50 values by Cost 231 model\"\n",
    "print '%.2f  %.2f  %.2f  %.2f  %.2f \\n '%(L50[0],L50[1],L50[2],L50[3],L50[4]);\n",
    "print \"L50 values bu Okumura/Hata model\"\n",
    "print '%.2f  %.2f  %.2f  %.2f  %.2f \\n '%(L_50[0],L_50[1],L_50[2],L_50[3],L_50[4]);\n",
    "print \"The results from the plot of two models shows that the calculated path loss with the COST 231 model is higher than the value obtained by the Okumura/Hata model.\"\n",
    "\n",
    "#Answers vary due to built-in functions of Python used"
   ]
  },
  {
   "cell_type": "markdown",
   "metadata": {},
   "source": [
    "## Example 3.8, Page 76"
   ]
  },
  {
   "cell_type": "code",
   "execution_count": 22,
   "metadata": {},
   "outputs": [
    {
     "name": "stdout",
     "output_type": "stream",
     "text": [
      "Coverage radius of an access point = 54 m \n",
      "\n"
     ]
    }
   ],
   "source": [
    "import math\n",
    "\n",
    "#Variable declaration\n",
    "SNRmin=12;#in dB\n",
    "n=3; #No of floors\n",
    "Backgroundnoise=-115; #dBm\n",
    "pt=100  #in dBm\n",
    "\n",
    "#Calculations\n",
    "pt_db=10*math.log10(pt);\n",
    "Sr=Backgroundnoise+SNRmin; #receiver sensitivity\n",
    "Lpmax=pt_db-Sr;\n",
    "#Refering table 3.4\n",
    "Lp_d0=38;  #ref path loss at the first meter(dB)\n",
    "Lf=15+4*(n-1); #signal attenuation through n floors\n",
    "y=3; #path loss exponent\n",
    "X=10; #Shadowing effect(dB)\n",
    "d=10**((Lpmax-Lp_d0-Lf-X)/30); #max allowable path loss\n",
    "\n",
    "#Result\n",
    "print 'Coverage radius of an access point = %d m \\n'%(round(d))"
   ]
  },
  {
   "cell_type": "markdown",
   "metadata": {},
   "source": [
    "## Example 3.9, Page 77"
   ]
  },
  {
   "cell_type": "code",
   "execution_count": 24,
   "metadata": {},
   "outputs": [
    {
     "name": "stdout",
     "output_type": "stream",
     "text": [
      "probability of exceeding signal beyond the receiver sensitivity is 0.84 \n",
      "\n"
     ]
    }
   ],
   "source": [
    "import math\n",
    "\n",
    "#Variable declaration\n",
    "SSmean=-100; #signal strength(dBm)\n",
    "Sr=-110; #receiver sensitivity(dBm)\n",
    "sd=10;  #standard deviation(dB)\n",
    "\n",
    "#Calculations\n",
    "P_Smin=(0.5-0.5*math.erf((Sr-SSmean)/(math.sqrt(2)*sd)));\n",
    "\n",
    "#Result\n",
    "print 'probability of exceeding signal beyond the receiver sensitivity is %.2f \\n'%(P_Smin)"
   ]
  },
  {
   "cell_type": "markdown",
   "metadata": {},
   "source": [
    "## Example 3.10, Page 81"
   ]
  },
  {
   "cell_type": "code",
   "execution_count": 25,
   "metadata": {},
   "outputs": [
    {
     "name": "stdout",
     "output_type": "stream",
     "text": [
      "Total transmitted power is 6 Watts \n",
      "\n"
     ]
    }
   ],
   "source": [
    "import math\n",
    "\n",
    "#Variable declaration\n",
    "Lp=140; # path losses in dB \n",
    "k=1.38*10**-23; # Boltzmann’s constant (W/Kelvin-Hz)\n",
    "k_db=10*math.log10(k);\n",
    "f=900;#in MHz\n",
    "Gt=8; #transmitting antenna gain(dB)\n",
    "Gr=0; #receiver antenna gain(dB)\n",
    "Ag=24;#gain of receiver ampliﬁer in dB \n",
    "Fmargin=8;#Fade margin(dB)\n",
    "Nf=6;#Noise figure(dB)\n",
    "L0=20; #\u0002 other losses in dB\n",
    "Lf=12; # antenna feed line loss in dB \n",
    "T=24.6;#Temperature expressed in dB\n",
    "R=39.8; #\u0002 data rate in dB \n",
    "M=8;  #overall link margin(dB)\n",
    "Eb_No=10;#dB\n",
    "\n",
    "#Calculations\n",
    "#From equation  (3.54)\n",
    "pt_db=M-Gt-Gr-Ag+ Nf + T+ k_db+ Lp+ Lf+ L0 + Fmargin+ R+ Eb_No;\n",
    "\n",
    "Pt=10**(pt_db/10);  #dB into normal number\n",
    "\n",
    "#Result\n",
    "print 'Total transmitted power is %d Watts \\n'%Pt"
   ]
  }
 ],
 "metadata": {
  "kernelspec": {
   "display_name": "Python 3",
   "language": "python",
   "name": "python3"
  },
  "language_info": {
   "codemirror_mode": {
    "name": "ipython",
    "version": 3
   },
   "file_extension": ".py",
   "mimetype": "text/x-python",
   "name": "python",
   "nbconvert_exporter": "python",
   "pygments_lexer": "ipython3",
   "version": "3.7.4"
  }
 },
 "nbformat": 4,
 "nbformat_minor": 1
}
